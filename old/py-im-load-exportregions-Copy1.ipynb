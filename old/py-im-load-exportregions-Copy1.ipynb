{
 "cells": [
  {
   "cell_type": "markdown",
   "metadata": {},
   "source": [
    "## Load image and export non-overlapping rectangular regions (ROIs) to new image files"
   ]
  },
  {
   "cell_type": "markdown",
   "metadata": {},
   "source": [
    "### IMPORTS\n",
    "Requires cv2, numpy, matplotlib"
   ]
  },
  {
   "cell_type": "code",
   "execution_count": 1,
   "metadata": {},
   "outputs": [],
   "source": [
    "import cv2\n",
    "import numpy as np\n",
    "import matplotlib.pyplot as plt\n",
    "import os\n",
    "import re  # regular expressions"
   ]
  },
  {
   "cell_type": "code",
   "execution_count": 2,
   "metadata": {},
   "outputs": [],
   "source": [
    "### OPTIONS"
   ]
  },
  {
   "cell_type": "code",
   "execution_count": 3,
   "metadata": {},
   "outputs": [],
   "source": [
    "DEBUGGING          = False\n",
    "doEXTERNALWINDOW   = False  # Don't make True if in GCP\n",
    "doUSETESTIMAGERY   = False  # if False, use real images\n",
    "doTESTCOLOR        = False\n",
    "doMATPLOTLIBIMREAD = False"
   ]
  },
  {
   "cell_type": "raw",
   "metadata": {},
   "source": [
    "### Image path and filename\n",
    "You need to define your inpath and filename (as infn) here.\n",
    "This code is using a test image in a directory nearby that is defined as a relative path. \n",
    "%history"
   ]
  },
  {
   "cell_type": "code",
   "execution_count": null,
   "metadata": {},
   "outputs": [],
   "source": [
    "homepath = \"/home/jupyter/\"\n",
    "# inpath = homepath+\"_IMAGERY/201004_MF_189_80_60_CB_S_1_360_64/\"\n",
    "inpath = homepath+\"_IMAGERY/201004_MD_165_86.7_90_CB_S_1_1000_32\"\n",
    "\n",
    "# multiple files to process\n",
    "#infn = \"201004_MF_189_80_60_CB_S_1_360_64.1+1.tif\"\n",
    "# infn = \"201004_MF_189_80_60_CB_S_1_360_64.2+1.tif\"\n",
    "infn = \"201004_MF_189_80_60_CB_S_1_360_64.3+1.tif\"\n",
    "# infn = \"201004_MF_189_80_60_CB_S_1_360_64.4+1.tif\"\n",
    "# infn = \"201004_MF_189_80_60_CB_S_1_360_64.5+1.tif\"\n",
    "# infn = \"201004_MF_189_80_60_CB_S_1_360_64.6+1.tif\"\n",
    "\n",
    "# actualpath = \"_IMAGERY/201004_MF_189_80_60_CB_S_1_360_64/201004_MF_189_80_60_CB_S_1_360_64.6+1.tif\"\n",
    "# inpath= \"_IMAGERY/201004_MF_189_80_60_CB_S_1_360_64/201004_MF_189_80_60_CB_S_1_360_64.6+1.tif\"\n",
    "\n",
    "infile = inpath+infn\n",
    "print( infile )\n",
    "\n",
    "\n",
    "outpath = inpath+\"REGIONS/\"\n",
    "print( outpath )\n",
    "#if !exists(outpath):\n",
    "#    os.mkdir( outpath)\n",
    "outfile = outpath+infn\n",
    "print(outfile)"
   ]
  },
  {
   "cell_type": "markdown",
   "metadata": {},
   "source": [
    "### Read the image"
   ]
  },
  {
   "cell_type": "code",
   "execution_count": 40,
   "metadata": {},
   "outputs": [],
   "source": [
    "img = cv2.imread( infile )"
   ]
  },
  {
   "cell_type": "markdown",
   "metadata": {},
   "source": [
    "### Image shape\n",
    "Shape of image is accessed by img.shape. It returns a tuple of number of rows, columns, and channels (if image is color):"
   ]
  },
  {
   "cell_type": "code",
   "execution_count": 41,
   "metadata": {},
   "outputs": [
    {
     "name": "stdout",
     "output_type": "stream",
     "text": [
      "(23215, 14600, 3)\n"
     ]
    }
   ],
   "source": [
    "print(img.shape)"
   ]
  },
  {
   "cell_type": "markdown",
   "metadata": {},
   "source": [
    "### Image size\n",
    "Total number of pixels, from img.size"
   ]
  },
  {
   "cell_type": "code",
   "execution_count": 42,
   "metadata": {},
   "outputs": [
    {
     "name": "stdout",
     "output_type": "stream",
     "text": [
      "1016817000\n"
     ]
    }
   ],
   "source": [
    "print(img.size)"
   ]
  },
  {
   "cell_type": "markdown",
   "metadata": {},
   "source": [
    "### Image datatype\n",
    "Image datatype "
   ]
  },
  {
   "cell_type": "code",
   "execution_count": 43,
   "metadata": {},
   "outputs": [
    {
     "name": "stdout",
     "output_type": "stream",
     "text": [
      "uint8\n"
     ]
    }
   ],
   "source": [
    "print(img.dtype)"
   ]
  },
  {
   "cell_type": "markdown",
   "metadata": {},
   "source": [
    "### Display image using cv2.imshow (creates external window)\n",
    "DON'T DO THIS IN A JUPYTER NOTEBOOK"
   ]
  },
  {
   "cell_type": "code",
   "execution_count": 44,
   "metadata": {},
   "outputs": [],
   "source": [
    "# displaying image using cv2.imshow (creates external window)\n",
    "# DON'T DO THIS IN A JUPYTER NOTEBOOK\n",
    "if doEXTERNALWINDOW:\n",
    "    cv2.imshow('image window for img', img )\n",
    "    #add wait key. window waits till user press any key\n",
    "    cv2.waitKey(0)"
   ]
  },
  {
   "cell_type": "markdown",
   "metadata": {},
   "source": [
    "### Some recommend to destroy all windows, but this causes error:\n",
    "cv2.destoyAllWindows()\n",
    "AttributeError: module 'cv2' has no attribute 'destoyAllWindows'"
   ]
  },
  {
   "cell_type": "markdown",
   "metadata": {},
   "source": [
    "### __________________________________________________________________\n",
    "### Load and display image in the notebook using matplotlib\n",
    "Use matplotlib instead of opencv to read and display the image"
   ]
  },
  {
   "cell_type": "code",
   "execution_count": 45,
   "metadata": {},
   "outputs": [],
   "source": [
    "### Alternative: read the image in using matplotlib\n",
    "if doMATPLOTLIBIMREAD:\n",
    "    imgplt = plt.imread( infile )\n",
    "    print(imgplt.shape)\n",
    "    print(imgplt.dtype)\n",
    "    plt.imshow(imgplt) # displays image in the next output cell of the jupyter notebook"
   ]
  },
  {
   "cell_type": "markdown",
   "metadata": {},
   "source": [
    "### __________________________________________________________________\n",
    "### Test iteration through image\n",
    "Step through image by regions (ROIs, x,y blocks).\n",
    "This will give you an idea how the code works, and demonstrate the process without saving the regions."
   ]
  },
  {
   "cell_type": "raw",
   "metadata": {},
   "source": [
    "# TESTING \n",
    "ix      = 0\n",
    "iy      = 0\n",
    "iboxcount  = 0\n",
    "intvpix = 200\n",
    "NMAX    = 30\n",
    "\n",
    "print( img.shape )\n",
    "print( img.shape[0] )\n",
    "print( img.shape[1] )\n",
    "\n",
    "print('iboxcount, x, y' ) \n",
    "for x in range(     0, img.shape[0] , intvpix ):\n",
    "    for y in range( 0, img.shape[1] , intvpix ):\n",
    "        ix += 1\n",
    "        iy += 1\n",
    "        iboxcount += 1\n",
    "        print( '%d %d %d (%d %d)' % (iboxcount, x, y, ix, iy) ) \n",
    "        print( img[x,y] )\n",
    "         \n",
    "        if iboxcount>NMAX:\n",
    "            break\n",
    "    if iboxcount>NMAX:\n",
    "        break\n",
    "   "
   ]
  },
  {
   "cell_type": "markdown",
   "metadata": {},
   "source": [
    "### __________________________________________________________________\n",
    "## Export regions to images\n",
    "This is the code that iterates through image by regions (ROIs, x,y blocks), \n",
    "and saves the regions to new image files. "
   ]
  },
  {
   "cell_type": "code",
   "execution_count": 46,
   "metadata": {},
   "outputs": [
    {
     "name": "stdout",
     "output_type": "stream",
     "text": [
      "/home/jupyter/_IMAGERY/201004_MF_189_80_60_CB_S_1_360_64/REGIONS/201004_MF_189_80_60_CB_S_1_360_64.6+1.tif\n"
     ]
    }
   ],
   "source": [
    "print( outfile )"
   ]
  },
  {
   "cell_type": "code",
   "execution_count": 47,
   "metadata": {},
   "outputs": [
    {
     "name": "stdout",
     "output_type": "stream",
     "text": [
      "23215\n",
      "boxx init = 2000\n",
      "2000\n",
      "boxx now = 2000\n",
      "icount, x, y\n",
      "1 0 0\n",
      "[78 78 78]\n",
      "[AFTER RE.SUB] infile = /home/jupyter/_IMAGERY/201004_MF_189_80_60_CB_S_1_360_64/REGIONS/201004_MF_189_80_60_CB_S_1_360_64.6+1 (len = 102)\n",
      "!!ofn!! = /home/jupyter/_IMAGERY/201004_MF_189_80_60_CB_S_1_360_64/REGIONS/201004_MF_189_80_60_CB_S_1_360_64.6+1_000001.tif\n",
      "2 0 2000\n",
      "[200 200 200]\n",
      "[AFTER RE.SUB] infile = /home/jupyter/_IMAGERY/201004_MF_189_80_60_CB_S_1_360_64/REGIONS/201004_MF_189_80_60_CB_S_1_360_64.6+1 (len = 102)\n",
      "!!ofn!! = /home/jupyter/_IMAGERY/201004_MF_189_80_60_CB_S_1_360_64/REGIONS/201004_MF_189_80_60_CB_S_1_360_64.6+1_000002.tif\n",
      "3 0 4000\n",
      "[219 219 219]\n",
      "[AFTER RE.SUB] infile = /home/jupyter/_IMAGERY/201004_MF_189_80_60_CB_S_1_360_64/REGIONS/201004_MF_189_80_60_CB_S_1_360_64.6+1 (len = 102)\n",
      "!!ofn!! = /home/jupyter/_IMAGERY/201004_MF_189_80_60_CB_S_1_360_64/REGIONS/201004_MF_189_80_60_CB_S_1_360_64.6+1_000003.tif\n",
      "4 0 6000\n",
      "[223 223 223]\n",
      "[AFTER RE.SUB] infile = /home/jupyter/_IMAGERY/201004_MF_189_80_60_CB_S_1_360_64/REGIONS/201004_MF_189_80_60_CB_S_1_360_64.6+1 (len = 102)\n",
      "!!ofn!! = /home/jupyter/_IMAGERY/201004_MF_189_80_60_CB_S_1_360_64/REGIONS/201004_MF_189_80_60_CB_S_1_360_64.6+1_000004.tif\n",
      "5 0 8000\n",
      "[131 131 131]\n",
      "[AFTER RE.SUB] infile = /home/jupyter/_IMAGERY/201004_MF_189_80_60_CB_S_1_360_64/REGIONS/201004_MF_189_80_60_CB_S_1_360_64.6+1 (len = 102)\n",
      "!!ofn!! = /home/jupyter/_IMAGERY/201004_MF_189_80_60_CB_S_1_360_64/REGIONS/201004_MF_189_80_60_CB_S_1_360_64.6+1_000005.tif\n",
      "6 0 10000\n",
      "[217 217 217]\n",
      "[AFTER RE.SUB] infile = /home/jupyter/_IMAGERY/201004_MF_189_80_60_CB_S_1_360_64/REGIONS/201004_MF_189_80_60_CB_S_1_360_64.6+1 (len = 102)\n",
      "!!ofn!! = /home/jupyter/_IMAGERY/201004_MF_189_80_60_CB_S_1_360_64/REGIONS/201004_MF_189_80_60_CB_S_1_360_64.6+1_000006.tif\n",
      "7 0 12000\n",
      "[209 209 209]\n",
      "[AFTER RE.SUB] infile = /home/jupyter/_IMAGERY/201004_MF_189_80_60_CB_S_1_360_64/REGIONS/201004_MF_189_80_60_CB_S_1_360_64.6+1 (len = 102)\n",
      "!!ofn!! = /home/jupyter/_IMAGERY/201004_MF_189_80_60_CB_S_1_360_64/REGIONS/201004_MF_189_80_60_CB_S_1_360_64.6+1_000007.tif\n",
      "8 0 14000\n",
      "[145 145 145]\n",
      "[AFTER RE.SUB] infile = /home/jupyter/_IMAGERY/201004_MF_189_80_60_CB_S_1_360_64/REGIONS/201004_MF_189_80_60_CB_S_1_360_64.6+1 (len = 102)\n",
      "!!ofn!! = /home/jupyter/_IMAGERY/201004_MF_189_80_60_CB_S_1_360_64/REGIONS/201004_MF_189_80_60_CB_S_1_360_64.6+1_000008.tif\n",
      "9 2000 0\n",
      "[103 103 103]\n",
      "[AFTER RE.SUB] infile = /home/jupyter/_IMAGERY/201004_MF_189_80_60_CB_S_1_360_64/REGIONS/201004_MF_189_80_60_CB_S_1_360_64.6+1 (len = 102)\n",
      "!!ofn!! = /home/jupyter/_IMAGERY/201004_MF_189_80_60_CB_S_1_360_64/REGIONS/201004_MF_189_80_60_CB_S_1_360_64.6+1_000009.tif\n",
      "10 2000 2000\n",
      "[153 153 153]\n",
      "[AFTER RE.SUB] infile = /home/jupyter/_IMAGERY/201004_MF_189_80_60_CB_S_1_360_64/REGIONS/201004_MF_189_80_60_CB_S_1_360_64.6+1 (len = 102)\n",
      "!!ofn!! = /home/jupyter/_IMAGERY/201004_MF_189_80_60_CB_S_1_360_64/REGIONS/201004_MF_189_80_60_CB_S_1_360_64.6+1_000010.tif\n",
      "11 2000 4000\n",
      "[142 142 142]\n",
      "[AFTER RE.SUB] infile = /home/jupyter/_IMAGERY/201004_MF_189_80_60_CB_S_1_360_64/REGIONS/201004_MF_189_80_60_CB_S_1_360_64.6+1 (len = 102)\n",
      "!!ofn!! = /home/jupyter/_IMAGERY/201004_MF_189_80_60_CB_S_1_360_64/REGIONS/201004_MF_189_80_60_CB_S_1_360_64.6+1_000011.tif\n",
      "12 2000 6000\n",
      "[233 233 233]\n",
      "[AFTER RE.SUB] infile = /home/jupyter/_IMAGERY/201004_MF_189_80_60_CB_S_1_360_64/REGIONS/201004_MF_189_80_60_CB_S_1_360_64.6+1 (len = 102)\n",
      "!!ofn!! = /home/jupyter/_IMAGERY/201004_MF_189_80_60_CB_S_1_360_64/REGIONS/201004_MF_189_80_60_CB_S_1_360_64.6+1_000012.tif\n",
      "13 2000 8000\n",
      "[224 224 224]\n",
      "[AFTER RE.SUB] infile = /home/jupyter/_IMAGERY/201004_MF_189_80_60_CB_S_1_360_64/REGIONS/201004_MF_189_80_60_CB_S_1_360_64.6+1 (len = 102)\n",
      "!!ofn!! = /home/jupyter/_IMAGERY/201004_MF_189_80_60_CB_S_1_360_64/REGIONS/201004_MF_189_80_60_CB_S_1_360_64.6+1_000013.tif\n",
      "14 2000 10000\n",
      "[221 221 221]\n",
      "[AFTER RE.SUB] infile = /home/jupyter/_IMAGERY/201004_MF_189_80_60_CB_S_1_360_64/REGIONS/201004_MF_189_80_60_CB_S_1_360_64.6+1 (len = 102)\n",
      "!!ofn!! = /home/jupyter/_IMAGERY/201004_MF_189_80_60_CB_S_1_360_64/REGIONS/201004_MF_189_80_60_CB_S_1_360_64.6+1_000014.tif\n",
      "15 2000 12000\n",
      "[220 220 220]\n",
      "[AFTER RE.SUB] infile = /home/jupyter/_IMAGERY/201004_MF_189_80_60_CB_S_1_360_64/REGIONS/201004_MF_189_80_60_CB_S_1_360_64.6+1 (len = 102)\n",
      "!!ofn!! = /home/jupyter/_IMAGERY/201004_MF_189_80_60_CB_S_1_360_64/REGIONS/201004_MF_189_80_60_CB_S_1_360_64.6+1_000015.tif\n",
      "16 2000 14000\n",
      "[202 202 202]\n",
      "[AFTER RE.SUB] infile = /home/jupyter/_IMAGERY/201004_MF_189_80_60_CB_S_1_360_64/REGIONS/201004_MF_189_80_60_CB_S_1_360_64.6+1 (len = 102)\n",
      "!!ofn!! = /home/jupyter/_IMAGERY/201004_MF_189_80_60_CB_S_1_360_64/REGIONS/201004_MF_189_80_60_CB_S_1_360_64.6+1_000016.tif\n",
      "17 4000 0\n",
      "[105 105 105]\n",
      "[AFTER RE.SUB] infile = /home/jupyter/_IMAGERY/201004_MF_189_80_60_CB_S_1_360_64/REGIONS/201004_MF_189_80_60_CB_S_1_360_64.6+1 (len = 102)\n",
      "!!ofn!! = /home/jupyter/_IMAGERY/201004_MF_189_80_60_CB_S_1_360_64/REGIONS/201004_MF_189_80_60_CB_S_1_360_64.6+1_000017.tif\n",
      "18 4000 2000\n",
      "[246 246 246]\n",
      "[AFTER RE.SUB] infile = /home/jupyter/_IMAGERY/201004_MF_189_80_60_CB_S_1_360_64/REGIONS/201004_MF_189_80_60_CB_S_1_360_64.6+1 (len = 102)\n",
      "!!ofn!! = /home/jupyter/_IMAGERY/201004_MF_189_80_60_CB_S_1_360_64/REGIONS/201004_MF_189_80_60_CB_S_1_360_64.6+1_000018.tif\n",
      "19 4000 4000\n",
      "[244 244 244]\n",
      "[AFTER RE.SUB] infile = /home/jupyter/_IMAGERY/201004_MF_189_80_60_CB_S_1_360_64/REGIONS/201004_MF_189_80_60_CB_S_1_360_64.6+1 (len = 102)\n",
      "!!ofn!! = /home/jupyter/_IMAGERY/201004_MF_189_80_60_CB_S_1_360_64/REGIONS/201004_MF_189_80_60_CB_S_1_360_64.6+1_000019.tif\n",
      "20 4000 6000\n",
      "[234 234 234]\n",
      "[AFTER RE.SUB] infile = /home/jupyter/_IMAGERY/201004_MF_189_80_60_CB_S_1_360_64/REGIONS/201004_MF_189_80_60_CB_S_1_360_64.6+1 (len = 102)\n",
      "!!ofn!! = /home/jupyter/_IMAGERY/201004_MF_189_80_60_CB_S_1_360_64/REGIONS/201004_MF_189_80_60_CB_S_1_360_64.6+1_000020.tif\n",
      "21 4000 8000\n",
      "[226 226 226]\n",
      "[AFTER RE.SUB] infile = /home/jupyter/_IMAGERY/201004_MF_189_80_60_CB_S_1_360_64/REGIONS/201004_MF_189_80_60_CB_S_1_360_64.6+1 (len = 102)\n",
      "!!ofn!! = /home/jupyter/_IMAGERY/201004_MF_189_80_60_CB_S_1_360_64/REGIONS/201004_MF_189_80_60_CB_S_1_360_64.6+1_000021.tif\n",
      "22 4000 10000\n",
      "[222 222 222]\n",
      "[AFTER RE.SUB] infile = /home/jupyter/_IMAGERY/201004_MF_189_80_60_CB_S_1_360_64/REGIONS/201004_MF_189_80_60_CB_S_1_360_64.6+1 (len = 102)\n",
      "!!ofn!! = /home/jupyter/_IMAGERY/201004_MF_189_80_60_CB_S_1_360_64/REGIONS/201004_MF_189_80_60_CB_S_1_360_64.6+1_000022.tif\n",
      "23 4000 12000\n",
      "[219 219 219]\n",
      "[AFTER RE.SUB] infile = /home/jupyter/_IMAGERY/201004_MF_189_80_60_CB_S_1_360_64/REGIONS/201004_MF_189_80_60_CB_S_1_360_64.6+1 (len = 102)\n",
      "!!ofn!! = /home/jupyter/_IMAGERY/201004_MF_189_80_60_CB_S_1_360_64/REGIONS/201004_MF_189_80_60_CB_S_1_360_64.6+1_000023.tif\n",
      "24 4000 14000\n",
      "[202 202 202]\n",
      "[AFTER RE.SUB] infile = /home/jupyter/_IMAGERY/201004_MF_189_80_60_CB_S_1_360_64/REGIONS/201004_MF_189_80_60_CB_S_1_360_64.6+1 (len = 102)\n",
      "!!ofn!! = /home/jupyter/_IMAGERY/201004_MF_189_80_60_CB_S_1_360_64/REGIONS/201004_MF_189_80_60_CB_S_1_360_64.6+1_000024.tif\n",
      "25 6000 0\n",
      "[104 104 104]\n",
      "[AFTER RE.SUB] infile = /home/jupyter/_IMAGERY/201004_MF_189_80_60_CB_S_1_360_64/REGIONS/201004_MF_189_80_60_CB_S_1_360_64.6+1 (len = 102)\n",
      "!!ofn!! = /home/jupyter/_IMAGERY/201004_MF_189_80_60_CB_S_1_360_64/REGIONS/201004_MF_189_80_60_CB_S_1_360_64.6+1_000025.tif\n",
      "26 6000 2000\n",
      "[244 244 244]\n",
      "[AFTER RE.SUB] infile = /home/jupyter/_IMAGERY/201004_MF_189_80_60_CB_S_1_360_64/REGIONS/201004_MF_189_80_60_CB_S_1_360_64.6+1 (len = 102)\n",
      "!!ofn!! = /home/jupyter/_IMAGERY/201004_MF_189_80_60_CB_S_1_360_64/REGIONS/201004_MF_189_80_60_CB_S_1_360_64.6+1_000026.tif\n",
      "27 6000 4000\n",
      "[245 245 245]\n",
      "[AFTER RE.SUB] infile = /home/jupyter/_IMAGERY/201004_MF_189_80_60_CB_S_1_360_64/REGIONS/201004_MF_189_80_60_CB_S_1_360_64.6+1 (len = 102)\n",
      "!!ofn!! = /home/jupyter/_IMAGERY/201004_MF_189_80_60_CB_S_1_360_64/REGIONS/201004_MF_189_80_60_CB_S_1_360_64.6+1_000027.tif\n",
      "28 6000 6000\n",
      "[235 235 235]\n",
      "[AFTER RE.SUB] infile = /home/jupyter/_IMAGERY/201004_MF_189_80_60_CB_S_1_360_64/REGIONS/201004_MF_189_80_60_CB_S_1_360_64.6+1 (len = 102)\n",
      "!!ofn!! = /home/jupyter/_IMAGERY/201004_MF_189_80_60_CB_S_1_360_64/REGIONS/201004_MF_189_80_60_CB_S_1_360_64.6+1_000028.tif\n",
      "29 6000 8000\n",
      "[224 224 224]\n",
      "[AFTER RE.SUB] infile = /home/jupyter/_IMAGERY/201004_MF_189_80_60_CB_S_1_360_64/REGIONS/201004_MF_189_80_60_CB_S_1_360_64.6+1 (len = 102)\n",
      "!!ofn!! = /home/jupyter/_IMAGERY/201004_MF_189_80_60_CB_S_1_360_64/REGIONS/201004_MF_189_80_60_CB_S_1_360_64.6+1_000029.tif\n",
      "30 6000 10000\n",
      "[218 218 218]\n",
      "[AFTER RE.SUB] infile = /home/jupyter/_IMAGERY/201004_MF_189_80_60_CB_S_1_360_64/REGIONS/201004_MF_189_80_60_CB_S_1_360_64.6+1 (len = 102)\n",
      "!!ofn!! = /home/jupyter/_IMAGERY/201004_MF_189_80_60_CB_S_1_360_64/REGIONS/201004_MF_189_80_60_CB_S_1_360_64.6+1_000030.tif\n",
      "31 6000 12000\n",
      "[222 222 222]\n",
      "[AFTER RE.SUB] infile = /home/jupyter/_IMAGERY/201004_MF_189_80_60_CB_S_1_360_64/REGIONS/201004_MF_189_80_60_CB_S_1_360_64.6+1 (len = 102)\n",
      "!!ofn!! = /home/jupyter/_IMAGERY/201004_MF_189_80_60_CB_S_1_360_64/REGIONS/201004_MF_189_80_60_CB_S_1_360_64.6+1_000031.tif\n",
      "32 6000 14000\n",
      "[204 204 204]\n",
      "[AFTER RE.SUB] infile = /home/jupyter/_IMAGERY/201004_MF_189_80_60_CB_S_1_360_64/REGIONS/201004_MF_189_80_60_CB_S_1_360_64.6+1 (len = 102)\n",
      "!!ofn!! = /home/jupyter/_IMAGERY/201004_MF_189_80_60_CB_S_1_360_64/REGIONS/201004_MF_189_80_60_CB_S_1_360_64.6+1_000032.tif\n",
      "33 8000 0\n",
      "[101 101 101]\n",
      "[AFTER RE.SUB] infile = /home/jupyter/_IMAGERY/201004_MF_189_80_60_CB_S_1_360_64/REGIONS/201004_MF_189_80_60_CB_S_1_360_64.6+1 (len = 102)\n",
      "!!ofn!! = /home/jupyter/_IMAGERY/201004_MF_189_80_60_CB_S_1_360_64/REGIONS/201004_MF_189_80_60_CB_S_1_360_64.6+1_000033.tif\n",
      "34 8000 2000\n",
      "[248 248 248]\n",
      "[AFTER RE.SUB] infile = /home/jupyter/_IMAGERY/201004_MF_189_80_60_CB_S_1_360_64/REGIONS/201004_MF_189_80_60_CB_S_1_360_64.6+1 (len = 102)\n",
      "!!ofn!! = /home/jupyter/_IMAGERY/201004_MF_189_80_60_CB_S_1_360_64/REGIONS/201004_MF_189_80_60_CB_S_1_360_64.6+1_000034.tif\n",
      "35 8000 4000\n",
      "[247 247 247]\n",
      "[AFTER RE.SUB] infile = /home/jupyter/_IMAGERY/201004_MF_189_80_60_CB_S_1_360_64/REGIONS/201004_MF_189_80_60_CB_S_1_360_64.6+1 (len = 102)\n",
      "!!ofn!! = /home/jupyter/_IMAGERY/201004_MF_189_80_60_CB_S_1_360_64/REGIONS/201004_MF_189_80_60_CB_S_1_360_64.6+1_000035.tif\n",
      "36 8000 6000\n",
      "[237 237 237]\n",
      "[AFTER RE.SUB] infile = /home/jupyter/_IMAGERY/201004_MF_189_80_60_CB_S_1_360_64/REGIONS/201004_MF_189_80_60_CB_S_1_360_64.6+1 (len = 102)\n",
      "!!ofn!! = /home/jupyter/_IMAGERY/201004_MF_189_80_60_CB_S_1_360_64/REGIONS/201004_MF_189_80_60_CB_S_1_360_64.6+1_000036.tif\n",
      "37 8000 8000\n",
      "[222 222 222]\n",
      "[AFTER RE.SUB] infile = /home/jupyter/_IMAGERY/201004_MF_189_80_60_CB_S_1_360_64/REGIONS/201004_MF_189_80_60_CB_S_1_360_64.6+1 (len = 102)\n",
      "!!ofn!! = /home/jupyter/_IMAGERY/201004_MF_189_80_60_CB_S_1_360_64/REGIONS/201004_MF_189_80_60_CB_S_1_360_64.6+1_000037.tif\n",
      "38 8000 10000\n",
      "[220 220 220]\n",
      "[AFTER RE.SUB] infile = /home/jupyter/_IMAGERY/201004_MF_189_80_60_CB_S_1_360_64/REGIONS/201004_MF_189_80_60_CB_S_1_360_64.6+1 (len = 102)\n",
      "!!ofn!! = /home/jupyter/_IMAGERY/201004_MF_189_80_60_CB_S_1_360_64/REGIONS/201004_MF_189_80_60_CB_S_1_360_64.6+1_000038.tif\n",
      "39 8000 12000\n",
      "[221 221 221]\n",
      "[AFTER RE.SUB] infile = /home/jupyter/_IMAGERY/201004_MF_189_80_60_CB_S_1_360_64/REGIONS/201004_MF_189_80_60_CB_S_1_360_64.6+1 (len = 102)\n",
      "!!ofn!! = /home/jupyter/_IMAGERY/201004_MF_189_80_60_CB_S_1_360_64/REGIONS/201004_MF_189_80_60_CB_S_1_360_64.6+1_000039.tif\n",
      "40 8000 14000\n",
      "[204 204 204]\n",
      "[AFTER RE.SUB] infile = /home/jupyter/_IMAGERY/201004_MF_189_80_60_CB_S_1_360_64/REGIONS/201004_MF_189_80_60_CB_S_1_360_64.6+1 (len = 102)\n",
      "!!ofn!! = /home/jupyter/_IMAGERY/201004_MF_189_80_60_CB_S_1_360_64/REGIONS/201004_MF_189_80_60_CB_S_1_360_64.6+1_000040.tif\n",
      "41 10000 0\n",
      "[101 101 101]\n",
      "[AFTER RE.SUB] infile = /home/jupyter/_IMAGERY/201004_MF_189_80_60_CB_S_1_360_64/REGIONS/201004_MF_189_80_60_CB_S_1_360_64.6+1 (len = 102)\n",
      "!!ofn!! = /home/jupyter/_IMAGERY/201004_MF_189_80_60_CB_S_1_360_64/REGIONS/201004_MF_189_80_60_CB_S_1_360_64.6+1_000041.tif\n",
      "42 10000 2000\n",
      "[248 248 248]\n",
      "[AFTER RE.SUB] infile = /home/jupyter/_IMAGERY/201004_MF_189_80_60_CB_S_1_360_64/REGIONS/201004_MF_189_80_60_CB_S_1_360_64.6+1 (len = 102)\n",
      "!!ofn!! = /home/jupyter/_IMAGERY/201004_MF_189_80_60_CB_S_1_360_64/REGIONS/201004_MF_189_80_60_CB_S_1_360_64.6+1_000042.tif\n",
      "43 10000 4000\n",
      "[243 243 243]\n",
      "[AFTER RE.SUB] infile = /home/jupyter/_IMAGERY/201004_MF_189_80_60_CB_S_1_360_64/REGIONS/201004_MF_189_80_60_CB_S_1_360_64.6+1 (len = 102)\n",
      "!!ofn!! = /home/jupyter/_IMAGERY/201004_MF_189_80_60_CB_S_1_360_64/REGIONS/201004_MF_189_80_60_CB_S_1_360_64.6+1_000043.tif\n",
      "44 10000 6000\n",
      "[233 233 233]\n",
      "[AFTER RE.SUB] infile = /home/jupyter/_IMAGERY/201004_MF_189_80_60_CB_S_1_360_64/REGIONS/201004_MF_189_80_60_CB_S_1_360_64.6+1 (len = 102)\n",
      "!!ofn!! = /home/jupyter/_IMAGERY/201004_MF_189_80_60_CB_S_1_360_64/REGIONS/201004_MF_189_80_60_CB_S_1_360_64.6+1_000044.tif\n",
      "45 10000 8000\n",
      "[225 225 225]\n",
      "[AFTER RE.SUB] infile = /home/jupyter/_IMAGERY/201004_MF_189_80_60_CB_S_1_360_64/REGIONS/201004_MF_189_80_60_CB_S_1_360_64.6+1 (len = 102)\n",
      "!!ofn!! = /home/jupyter/_IMAGERY/201004_MF_189_80_60_CB_S_1_360_64/REGIONS/201004_MF_189_80_60_CB_S_1_360_64.6+1_000045.tif\n",
      "46 10000 10000\n",
      "[221 221 221]\n",
      "[AFTER RE.SUB] infile = /home/jupyter/_IMAGERY/201004_MF_189_80_60_CB_S_1_360_64/REGIONS/201004_MF_189_80_60_CB_S_1_360_64.6+1 (len = 102)\n",
      "!!ofn!! = /home/jupyter/_IMAGERY/201004_MF_189_80_60_CB_S_1_360_64/REGIONS/201004_MF_189_80_60_CB_S_1_360_64.6+1_000046.tif\n",
      "47 10000 12000\n",
      "[218 218 218]\n",
      "[AFTER RE.SUB] infile = /home/jupyter/_IMAGERY/201004_MF_189_80_60_CB_S_1_360_64/REGIONS/201004_MF_189_80_60_CB_S_1_360_64.6+1 (len = 102)\n",
      "!!ofn!! = /home/jupyter/_IMAGERY/201004_MF_189_80_60_CB_S_1_360_64/REGIONS/201004_MF_189_80_60_CB_S_1_360_64.6+1_000047.tif\n",
      "48 10000 14000\n",
      "[206 206 206]\n",
      "[AFTER RE.SUB] infile = /home/jupyter/_IMAGERY/201004_MF_189_80_60_CB_S_1_360_64/REGIONS/201004_MF_189_80_60_CB_S_1_360_64.6+1 (len = 102)\n",
      "!!ofn!! = /home/jupyter/_IMAGERY/201004_MF_189_80_60_CB_S_1_360_64/REGIONS/201004_MF_189_80_60_CB_S_1_360_64.6+1_000048.tif\n",
      "49 12000 0\n",
      "[98 98 98]\n",
      "[AFTER RE.SUB] infile = /home/jupyter/_IMAGERY/201004_MF_189_80_60_CB_S_1_360_64/REGIONS/201004_MF_189_80_60_CB_S_1_360_64.6+1 (len = 102)\n",
      "!!ofn!! = /home/jupyter/_IMAGERY/201004_MF_189_80_60_CB_S_1_360_64/REGIONS/201004_MF_189_80_60_CB_S_1_360_64.6+1_000049.tif\n",
      "50 12000 2000\n",
      "[239 239 239]\n",
      "[AFTER RE.SUB] infile = /home/jupyter/_IMAGERY/201004_MF_189_80_60_CB_S_1_360_64/REGIONS/201004_MF_189_80_60_CB_S_1_360_64.6+1 (len = 102)\n",
      "!!ofn!! = /home/jupyter/_IMAGERY/201004_MF_189_80_60_CB_S_1_360_64/REGIONS/201004_MF_189_80_60_CB_S_1_360_64.6+1_000050.tif\n",
      "51 12000 4000\n",
      "[243 243 243]\n",
      "[AFTER RE.SUB] infile = /home/jupyter/_IMAGERY/201004_MF_189_80_60_CB_S_1_360_64/REGIONS/201004_MF_189_80_60_CB_S_1_360_64.6+1 (len = 102)\n",
      "!!ofn!! = /home/jupyter/_IMAGERY/201004_MF_189_80_60_CB_S_1_360_64/REGIONS/201004_MF_189_80_60_CB_S_1_360_64.6+1_000051.tif\n",
      "52 12000 6000\n",
      "[232 232 232]\n",
      "[AFTER RE.SUB] infile = /home/jupyter/_IMAGERY/201004_MF_189_80_60_CB_S_1_360_64/REGIONS/201004_MF_189_80_60_CB_S_1_360_64.6+1 (len = 102)\n",
      "!!ofn!! = /home/jupyter/_IMAGERY/201004_MF_189_80_60_CB_S_1_360_64/REGIONS/201004_MF_189_80_60_CB_S_1_360_64.6+1_000052.tif\n",
      "53 12000 8000\n",
      "[227 227 227]\n",
      "[AFTER RE.SUB] infile = /home/jupyter/_IMAGERY/201004_MF_189_80_60_CB_S_1_360_64/REGIONS/201004_MF_189_80_60_CB_S_1_360_64.6+1 (len = 102)\n",
      "!!ofn!! = /home/jupyter/_IMAGERY/201004_MF_189_80_60_CB_S_1_360_64/REGIONS/201004_MF_189_80_60_CB_S_1_360_64.6+1_000053.tif\n",
      "54 12000 10000\n",
      "[190 190 190]\n",
      "[AFTER RE.SUB] infile = /home/jupyter/_IMAGERY/201004_MF_189_80_60_CB_S_1_360_64/REGIONS/201004_MF_189_80_60_CB_S_1_360_64.6+1 (len = 102)\n",
      "!!ofn!! = /home/jupyter/_IMAGERY/201004_MF_189_80_60_CB_S_1_360_64/REGIONS/201004_MF_189_80_60_CB_S_1_360_64.6+1_000054.tif\n",
      "55 12000 12000\n",
      "[227 227 227]\n",
      "[AFTER RE.SUB] infile = /home/jupyter/_IMAGERY/201004_MF_189_80_60_CB_S_1_360_64/REGIONS/201004_MF_189_80_60_CB_S_1_360_64.6+1 (len = 102)\n",
      "!!ofn!! = /home/jupyter/_IMAGERY/201004_MF_189_80_60_CB_S_1_360_64/REGIONS/201004_MF_189_80_60_CB_S_1_360_64.6+1_000055.tif\n",
      "56 12000 14000\n",
      "[212 212 212]\n",
      "[AFTER RE.SUB] infile = /home/jupyter/_IMAGERY/201004_MF_189_80_60_CB_S_1_360_64/REGIONS/201004_MF_189_80_60_CB_S_1_360_64.6+1 (len = 102)\n",
      "!!ofn!! = /home/jupyter/_IMAGERY/201004_MF_189_80_60_CB_S_1_360_64/REGIONS/201004_MF_189_80_60_CB_S_1_360_64.6+1_000056.tif\n",
      "57 14000 0\n",
      "[112 112 112]\n",
      "[AFTER RE.SUB] infile = /home/jupyter/_IMAGERY/201004_MF_189_80_60_CB_S_1_360_64/REGIONS/201004_MF_189_80_60_CB_S_1_360_64.6+1 (len = 102)\n",
      "!!ofn!! = /home/jupyter/_IMAGERY/201004_MF_189_80_60_CB_S_1_360_64/REGIONS/201004_MF_189_80_60_CB_S_1_360_64.6+1_000057.tif\n",
      "58 14000 2000\n",
      "[248 248 248]\n",
      "[AFTER RE.SUB] infile = /home/jupyter/_IMAGERY/201004_MF_189_80_60_CB_S_1_360_64/REGIONS/201004_MF_189_80_60_CB_S_1_360_64.6+1 (len = 102)\n",
      "!!ofn!! = /home/jupyter/_IMAGERY/201004_MF_189_80_60_CB_S_1_360_64/REGIONS/201004_MF_189_80_60_CB_S_1_360_64.6+1_000058.tif\n",
      "59 14000 4000\n",
      "[248 248 248]\n",
      "[AFTER RE.SUB] infile = /home/jupyter/_IMAGERY/201004_MF_189_80_60_CB_S_1_360_64/REGIONS/201004_MF_189_80_60_CB_S_1_360_64.6+1 (len = 102)\n",
      "!!ofn!! = /home/jupyter/_IMAGERY/201004_MF_189_80_60_CB_S_1_360_64/REGIONS/201004_MF_189_80_60_CB_S_1_360_64.6+1_000059.tif\n",
      "60 14000 6000\n",
      "[238 238 238]\n",
      "[AFTER RE.SUB] infile = /home/jupyter/_IMAGERY/201004_MF_189_80_60_CB_S_1_360_64/REGIONS/201004_MF_189_80_60_CB_S_1_360_64.6+1 (len = 102)\n",
      "!!ofn!! = /home/jupyter/_IMAGERY/201004_MF_189_80_60_CB_S_1_360_64/REGIONS/201004_MF_189_80_60_CB_S_1_360_64.6+1_000060.tif\n",
      "61 14000 8000\n",
      "[231 231 231]\n",
      "[AFTER RE.SUB] infile = /home/jupyter/_IMAGERY/201004_MF_189_80_60_CB_S_1_360_64/REGIONS/201004_MF_189_80_60_CB_S_1_360_64.6+1 (len = 102)\n",
      "!!ofn!! = /home/jupyter/_IMAGERY/201004_MF_189_80_60_CB_S_1_360_64/REGIONS/201004_MF_189_80_60_CB_S_1_360_64.6+1_000061.tif\n",
      "62 14000 10000\n",
      "[229 229 229]\n",
      "[AFTER RE.SUB] infile = /home/jupyter/_IMAGERY/201004_MF_189_80_60_CB_S_1_360_64/REGIONS/201004_MF_189_80_60_CB_S_1_360_64.6+1 (len = 102)\n",
      "!!ofn!! = /home/jupyter/_IMAGERY/201004_MF_189_80_60_CB_S_1_360_64/REGIONS/201004_MF_189_80_60_CB_S_1_360_64.6+1_000062.tif\n",
      "63 14000 12000\n",
      "[228 228 228]\n",
      "[AFTER RE.SUB] infile = /home/jupyter/_IMAGERY/201004_MF_189_80_60_CB_S_1_360_64/REGIONS/201004_MF_189_80_60_CB_S_1_360_64.6+1 (len = 102)\n",
      "!!ofn!! = /home/jupyter/_IMAGERY/201004_MF_189_80_60_CB_S_1_360_64/REGIONS/201004_MF_189_80_60_CB_S_1_360_64.6+1_000063.tif\n",
      "64 14000 14000\n",
      "[209 209 209]\n",
      "[AFTER RE.SUB] infile = /home/jupyter/_IMAGERY/201004_MF_189_80_60_CB_S_1_360_64/REGIONS/201004_MF_189_80_60_CB_S_1_360_64.6+1 (len = 102)\n",
      "!!ofn!! = /home/jupyter/_IMAGERY/201004_MF_189_80_60_CB_S_1_360_64/REGIONS/201004_MF_189_80_60_CB_S_1_360_64.6+1_000064.tif\n",
      "65 16000 0\n",
      "[113 113 113]\n",
      "[AFTER RE.SUB] infile = /home/jupyter/_IMAGERY/201004_MF_189_80_60_CB_S_1_360_64/REGIONS/201004_MF_189_80_60_CB_S_1_360_64.6+1 (len = 102)\n",
      "!!ofn!! = /home/jupyter/_IMAGERY/201004_MF_189_80_60_CB_S_1_360_64/REGIONS/201004_MF_189_80_60_CB_S_1_360_64.6+1_000065.tif\n",
      "66 16000 2000\n",
      "[247 247 247]\n",
      "[AFTER RE.SUB] infile = /home/jupyter/_IMAGERY/201004_MF_189_80_60_CB_S_1_360_64/REGIONS/201004_MF_189_80_60_CB_S_1_360_64.6+1 (len = 102)\n",
      "!!ofn!! = /home/jupyter/_IMAGERY/201004_MF_189_80_60_CB_S_1_360_64/REGIONS/201004_MF_189_80_60_CB_S_1_360_64.6+1_000066.tif\n",
      "67 16000 4000\n",
      "[250 250 250]\n",
      "[AFTER RE.SUB] infile = /home/jupyter/_IMAGERY/201004_MF_189_80_60_CB_S_1_360_64/REGIONS/201004_MF_189_80_60_CB_S_1_360_64.6+1 (len = 102)\n",
      "!!ofn!! = /home/jupyter/_IMAGERY/201004_MF_189_80_60_CB_S_1_360_64/REGIONS/201004_MF_189_80_60_CB_S_1_360_64.6+1_000067.tif\n",
      "68 16000 6000\n",
      "[243 243 243]\n",
      "[AFTER RE.SUB] infile = /home/jupyter/_IMAGERY/201004_MF_189_80_60_CB_S_1_360_64/REGIONS/201004_MF_189_80_60_CB_S_1_360_64.6+1 (len = 102)\n",
      "!!ofn!! = /home/jupyter/_IMAGERY/201004_MF_189_80_60_CB_S_1_360_64/REGIONS/201004_MF_189_80_60_CB_S_1_360_64.6+1_000068.tif\n",
      "69 16000 8000\n",
      "[236 236 236]\n",
      "[AFTER RE.SUB] infile = /home/jupyter/_IMAGERY/201004_MF_189_80_60_CB_S_1_360_64/REGIONS/201004_MF_189_80_60_CB_S_1_360_64.6+1 (len = 102)\n",
      "!!ofn!! = /home/jupyter/_IMAGERY/201004_MF_189_80_60_CB_S_1_360_64/REGIONS/201004_MF_189_80_60_CB_S_1_360_64.6+1_000069.tif\n",
      "70 16000 10000\n",
      "[234 234 234]\n",
      "[AFTER RE.SUB] infile = /home/jupyter/_IMAGERY/201004_MF_189_80_60_CB_S_1_360_64/REGIONS/201004_MF_189_80_60_CB_S_1_360_64.6+1 (len = 102)\n",
      "!!ofn!! = /home/jupyter/_IMAGERY/201004_MF_189_80_60_CB_S_1_360_64/REGIONS/201004_MF_189_80_60_CB_S_1_360_64.6+1_000070.tif\n",
      "71 16000 12000\n",
      "[232 232 232]\n",
      "[AFTER RE.SUB] infile = /home/jupyter/_IMAGERY/201004_MF_189_80_60_CB_S_1_360_64/REGIONS/201004_MF_189_80_60_CB_S_1_360_64.6+1 (len = 102)\n",
      "!!ofn!! = /home/jupyter/_IMAGERY/201004_MF_189_80_60_CB_S_1_360_64/REGIONS/201004_MF_189_80_60_CB_S_1_360_64.6+1_000071.tif\n",
      "72 16000 14000\n",
      "[210 210 210]\n",
      "[AFTER RE.SUB] infile = /home/jupyter/_IMAGERY/201004_MF_189_80_60_CB_S_1_360_64/REGIONS/201004_MF_189_80_60_CB_S_1_360_64.6+1 (len = 102)\n",
      "!!ofn!! = /home/jupyter/_IMAGERY/201004_MF_189_80_60_CB_S_1_360_64/REGIONS/201004_MF_189_80_60_CB_S_1_360_64.6+1_000072.tif\n",
      "73 18000 0\n",
      "[114 114 114]\n",
      "[AFTER RE.SUB] infile = /home/jupyter/_IMAGERY/201004_MF_189_80_60_CB_S_1_360_64/REGIONS/201004_MF_189_80_60_CB_S_1_360_64.6+1 (len = 102)\n",
      "!!ofn!! = /home/jupyter/_IMAGERY/201004_MF_189_80_60_CB_S_1_360_64/REGIONS/201004_MF_189_80_60_CB_S_1_360_64.6+1_000073.tif\n",
      "74 18000 2000\n",
      "[246 246 246]\n",
      "[AFTER RE.SUB] infile = /home/jupyter/_IMAGERY/201004_MF_189_80_60_CB_S_1_360_64/REGIONS/201004_MF_189_80_60_CB_S_1_360_64.6+1 (len = 102)\n",
      "!!ofn!! = /home/jupyter/_IMAGERY/201004_MF_189_80_60_CB_S_1_360_64/REGIONS/201004_MF_189_80_60_CB_S_1_360_64.6+1_000074.tif\n",
      "75 18000 4000\n",
      "[250 250 250]\n",
      "[AFTER RE.SUB] infile = /home/jupyter/_IMAGERY/201004_MF_189_80_60_CB_S_1_360_64/REGIONS/201004_MF_189_80_60_CB_S_1_360_64.6+1 (len = 102)\n",
      "!!ofn!! = /home/jupyter/_IMAGERY/201004_MF_189_80_60_CB_S_1_360_64/REGIONS/201004_MF_189_80_60_CB_S_1_360_64.6+1_000075.tif\n",
      "76 18000 6000\n",
      "[242 242 242]\n",
      "[AFTER RE.SUB] infile = /home/jupyter/_IMAGERY/201004_MF_189_80_60_CB_S_1_360_64/REGIONS/201004_MF_189_80_60_CB_S_1_360_64.6+1 (len = 102)\n",
      "!!ofn!! = /home/jupyter/_IMAGERY/201004_MF_189_80_60_CB_S_1_360_64/REGIONS/201004_MF_189_80_60_CB_S_1_360_64.6+1_000076.tif\n",
      "77 18000 8000\n",
      "[236 236 236]\n",
      "[AFTER RE.SUB] infile = /home/jupyter/_IMAGERY/201004_MF_189_80_60_CB_S_1_360_64/REGIONS/201004_MF_189_80_60_CB_S_1_360_64.6+1 (len = 102)\n",
      "!!ofn!! = /home/jupyter/_IMAGERY/201004_MF_189_80_60_CB_S_1_360_64/REGIONS/201004_MF_189_80_60_CB_S_1_360_64.6+1_000077.tif\n",
      "78 18000 10000\n",
      "[236 236 236]\n",
      "[AFTER RE.SUB] infile = /home/jupyter/_IMAGERY/201004_MF_189_80_60_CB_S_1_360_64/REGIONS/201004_MF_189_80_60_CB_S_1_360_64.6+1 (len = 102)\n",
      "!!ofn!! = /home/jupyter/_IMAGERY/201004_MF_189_80_60_CB_S_1_360_64/REGIONS/201004_MF_189_80_60_CB_S_1_360_64.6+1_000078.tif\n",
      "79 18000 12000\n",
      "[232 232 232]\n",
      "[AFTER RE.SUB] infile = /home/jupyter/_IMAGERY/201004_MF_189_80_60_CB_S_1_360_64/REGIONS/201004_MF_189_80_60_CB_S_1_360_64.6+1 (len = 102)\n",
      "!!ofn!! = /home/jupyter/_IMAGERY/201004_MF_189_80_60_CB_S_1_360_64/REGIONS/201004_MF_189_80_60_CB_S_1_360_64.6+1_000079.tif\n",
      "80 18000 14000\n",
      "[211 211 211]\n",
      "[AFTER RE.SUB] infile = /home/jupyter/_IMAGERY/201004_MF_189_80_60_CB_S_1_360_64/REGIONS/201004_MF_189_80_60_CB_S_1_360_64.6+1 (len = 102)\n",
      "!!ofn!! = /home/jupyter/_IMAGERY/201004_MF_189_80_60_CB_S_1_360_64/REGIONS/201004_MF_189_80_60_CB_S_1_360_64.6+1_000080.tif\n",
      "81 20000 0\n",
      "[117 117 117]\n",
      "[AFTER RE.SUB] infile = /home/jupyter/_IMAGERY/201004_MF_189_80_60_CB_S_1_360_64/REGIONS/201004_MF_189_80_60_CB_S_1_360_64.6+1 (len = 102)\n",
      "!!ofn!! = /home/jupyter/_IMAGERY/201004_MF_189_80_60_CB_S_1_360_64/REGIONS/201004_MF_189_80_60_CB_S_1_360_64.6+1_000081.tif\n",
      "82 20000 2000\n",
      "[245 245 245]\n",
      "[AFTER RE.SUB] infile = /home/jupyter/_IMAGERY/201004_MF_189_80_60_CB_S_1_360_64/REGIONS/201004_MF_189_80_60_CB_S_1_360_64.6+1 (len = 102)\n",
      "!!ofn!! = /home/jupyter/_IMAGERY/201004_MF_189_80_60_CB_S_1_360_64/REGIONS/201004_MF_189_80_60_CB_S_1_360_64.6+1_000082.tif\n",
      "83 20000 4000\n",
      "[244 244 244]\n",
      "[AFTER RE.SUB] infile = /home/jupyter/_IMAGERY/201004_MF_189_80_60_CB_S_1_360_64/REGIONS/201004_MF_189_80_60_CB_S_1_360_64.6+1 (len = 102)\n",
      "!!ofn!! = /home/jupyter/_IMAGERY/201004_MF_189_80_60_CB_S_1_360_64/REGIONS/201004_MF_189_80_60_CB_S_1_360_64.6+1_000083.tif\n",
      "84 20000 6000\n",
      "[245 245 245]\n",
      "[AFTER RE.SUB] infile = /home/jupyter/_IMAGERY/201004_MF_189_80_60_CB_S_1_360_64/REGIONS/201004_MF_189_80_60_CB_S_1_360_64.6+1 (len = 102)\n",
      "!!ofn!! = /home/jupyter/_IMAGERY/201004_MF_189_80_60_CB_S_1_360_64/REGIONS/201004_MF_189_80_60_CB_S_1_360_64.6+1_000084.tif\n",
      "85 20000 8000\n",
      "[236 236 236]\n",
      "[AFTER RE.SUB] infile = /home/jupyter/_IMAGERY/201004_MF_189_80_60_CB_S_1_360_64/REGIONS/201004_MF_189_80_60_CB_S_1_360_64.6+1 (len = 102)\n",
      "!!ofn!! = /home/jupyter/_IMAGERY/201004_MF_189_80_60_CB_S_1_360_64/REGIONS/201004_MF_189_80_60_CB_S_1_360_64.6+1_000085.tif\n",
      "86 20000 10000\n",
      "[232 232 232]\n",
      "[AFTER RE.SUB] infile = /home/jupyter/_IMAGERY/201004_MF_189_80_60_CB_S_1_360_64/REGIONS/201004_MF_189_80_60_CB_S_1_360_64.6+1 (len = 102)\n",
      "!!ofn!! = /home/jupyter/_IMAGERY/201004_MF_189_80_60_CB_S_1_360_64/REGIONS/201004_MF_189_80_60_CB_S_1_360_64.6+1_000086.tif\n",
      "87 20000 12000\n",
      "[230 230 230]\n",
      "[AFTER RE.SUB] infile = /home/jupyter/_IMAGERY/201004_MF_189_80_60_CB_S_1_360_64/REGIONS/201004_MF_189_80_60_CB_S_1_360_64.6+1 (len = 102)\n",
      "!!ofn!! = /home/jupyter/_IMAGERY/201004_MF_189_80_60_CB_S_1_360_64/REGIONS/201004_MF_189_80_60_CB_S_1_360_64.6+1_000087.tif\n",
      "88 20000 14000\n",
      "[208 208 208]\n",
      "[AFTER RE.SUB] infile = /home/jupyter/_IMAGERY/201004_MF_189_80_60_CB_S_1_360_64/REGIONS/201004_MF_189_80_60_CB_S_1_360_64.6+1 (len = 102)\n",
      "!!ofn!! = /home/jupyter/_IMAGERY/201004_MF_189_80_60_CB_S_1_360_64/REGIONS/201004_MF_189_80_60_CB_S_1_360_64.6+1_000088.tif\n",
      "89 22000 0\n",
      "[110 110 110]\n",
      "[AFTER RE.SUB] infile = /home/jupyter/_IMAGERY/201004_MF_189_80_60_CB_S_1_360_64/REGIONS/201004_MF_189_80_60_CB_S_1_360_64.6+1 (len = 102)\n",
      "!!ofn!! = /home/jupyter/_IMAGERY/201004_MF_189_80_60_CB_S_1_360_64/REGIONS/201004_MF_189_80_60_CB_S_1_360_64.6+1_000089.tif\n",
      "90 22000 2000\n",
      "[232 232 232]\n",
      "[AFTER RE.SUB] infile = /home/jupyter/_IMAGERY/201004_MF_189_80_60_CB_S_1_360_64/REGIONS/201004_MF_189_80_60_CB_S_1_360_64.6+1 (len = 102)\n",
      "!!ofn!! = /home/jupyter/_IMAGERY/201004_MF_189_80_60_CB_S_1_360_64/REGIONS/201004_MF_189_80_60_CB_S_1_360_64.6+1_000090.tif\n",
      "91 22000 4000\n",
      "[235 235 235]\n",
      "[AFTER RE.SUB] infile = /home/jupyter/_IMAGERY/201004_MF_189_80_60_CB_S_1_360_64/REGIONS/201004_MF_189_80_60_CB_S_1_360_64.6+1 (len = 102)\n",
      "!!ofn!! = /home/jupyter/_IMAGERY/201004_MF_189_80_60_CB_S_1_360_64/REGIONS/201004_MF_189_80_60_CB_S_1_360_64.6+1_000091.tif\n",
      "92 22000 6000\n",
      "[234 234 234]\n",
      "[AFTER RE.SUB] infile = /home/jupyter/_IMAGERY/201004_MF_189_80_60_CB_S_1_360_64/REGIONS/201004_MF_189_80_60_CB_S_1_360_64.6+1 (len = 102)\n",
      "!!ofn!! = /home/jupyter/_IMAGERY/201004_MF_189_80_60_CB_S_1_360_64/REGIONS/201004_MF_189_80_60_CB_S_1_360_64.6+1_000092.tif\n",
      "93 22000 8000\n",
      "[230 230 230]\n",
      "[AFTER RE.SUB] infile = /home/jupyter/_IMAGERY/201004_MF_189_80_60_CB_S_1_360_64/REGIONS/201004_MF_189_80_60_CB_S_1_360_64.6+1 (len = 102)\n",
      "!!ofn!! = /home/jupyter/_IMAGERY/201004_MF_189_80_60_CB_S_1_360_64/REGIONS/201004_MF_189_80_60_CB_S_1_360_64.6+1_000093.tif\n",
      "94 22000 10000\n",
      "[231 231 231]\n",
      "[AFTER RE.SUB] infile = /home/jupyter/_IMAGERY/201004_MF_189_80_60_CB_S_1_360_64/REGIONS/201004_MF_189_80_60_CB_S_1_360_64.6+1 (len = 102)\n",
      "!!ofn!! = /home/jupyter/_IMAGERY/201004_MF_189_80_60_CB_S_1_360_64/REGIONS/201004_MF_189_80_60_CB_S_1_360_64.6+1_000094.tif\n",
      "95 22000 12000\n",
      "[225 225 225]\n",
      "[AFTER RE.SUB] infile = /home/jupyter/_IMAGERY/201004_MF_189_80_60_CB_S_1_360_64/REGIONS/201004_MF_189_80_60_CB_S_1_360_64.6+1 (len = 102)\n",
      "!!ofn!! = /home/jupyter/_IMAGERY/201004_MF_189_80_60_CB_S_1_360_64/REGIONS/201004_MF_189_80_60_CB_S_1_360_64.6+1_000095.tif\n",
      "96 22000 14000\n",
      "[207 207 207]\n",
      "[AFTER RE.SUB] infile = /home/jupyter/_IMAGERY/201004_MF_189_80_60_CB_S_1_360_64/REGIONS/201004_MF_189_80_60_CB_S_1_360_64.6+1 (len = 102)\n",
      "!!ofn!! = /home/jupyter/_IMAGERY/201004_MF_189_80_60_CB_S_1_360_64/REGIONS/201004_MF_189_80_60_CB_S_1_360_64.6+1_000096.tif\n"
     ]
    }
   ],
   "source": [
    "# Export regions to images \n",
    "       \n",
    "ix = 0\n",
    "iy = 0\n",
    "icount = 0\n",
    "boxx    = 2000\n",
    "boxy    = 2000\n",
    "NROIMAX = 9999\n",
    "\n",
    "print( img.shape[0] )\n",
    "print( 'boxx init = %d' % boxx )    \n",
    "print( boxx )\n",
    "\n",
    "if img.shape[0] <= boxx:\n",
    "    boxx    = 100\n",
    "    boxy    = 100\n",
    "    NROIMAX =  10\n",
    "\n",
    "print( 'boxx now = %d' % boxx )    \n",
    "    \n",
    "print('icount, x, y' ) \n",
    "#for x in range(     0, img.shape[0] - boxx , boxx ):\n",
    "#    for y in range( 0, img.shape[1] - boxy , boxy ):\n",
    "for x in range(     0, img.shape[0]  , boxx ):\n",
    "    for y in range( 0, img.shape[1]  , boxy ):  \n",
    "        ix += 1\n",
    "        iy += 1\n",
    "        icount += 1\n",
    "        print('%d %d %d' % (icount, x, y) ) \n",
    "        print( img[x,y] )\n",
    "        \n",
    "        # region of interest rectangle selection\n",
    "        ROI = img[ x:x+boxx , y:y+boxy ]\n",
    "        \n",
    "        # outfilename\n",
    "        # ofnpfx = infile+'_{}.png'\n",
    "        #ofnpfx = outfile+'_{}.png'\n",
    "        #ofn = ofnpfx.format( icount , width=5 )   # apparently the width option is not working here     \n",
    "        #print( ofn )\n",
    "        \n",
    "        # remove infilename extension using regular expressions, re.sub\n",
    "        oldextension = \".tif\"\n",
    "        outfile = re.sub( oldextension , \"\", outfile)\n",
    "        lenofn = len( outfile )\n",
    "        print('[AFTER RE.SUB] infile = %s (len = %d)' % (outfile, lenofn ) )  \n",
    "        \n",
    "        # outfilename\n",
    "        #ofn = \"%s_%06d.png\" % (infile, icount) \n",
    "        ofn = \"%s_%06d%s\" % (outfile, icount, oldextension)\n",
    "        print('!!ofn!! = %s' % ofn )\n",
    "        \n",
    "        # write region contents to image file (and works w/ color image content)\n",
    "        cv2.imwrite( ofn , ROI )\n",
    "        \n",
    "        if icount>=NROIMAX:\n",
    "            break\n",
    "    if icount>=NROIMAX:\n",
    "        break\n",
    " "
   ]
  },
  {
   "cell_type": "code",
   "execution_count": 48,
   "metadata": {},
   "outputs": [
    {
     "name": "stdout",
     "output_type": "stream",
     "text": [
      "N images = 96\n"
     ]
    }
   ],
   "source": [
    "print('N images = %d' % icount) "
   ]
  },
  {
   "cell_type": "markdown",
   "metadata": {},
   "source": [
    "Load and display image in the notebook using matplotlib\n",
    "\n",
    "Use matplotlib instead of opencv to read and display the image\n"
   ]
  },
  {
   "cell_type": "code",
   "execution_count": 49,
   "metadata": {},
   "outputs": [
    {
     "name": "stdout",
     "output_type": "stream",
     "text": [
      "/home/jupyter/_IMAGERY/201004_MF_189_80_60_CB_S_1_360_64/REGIONS/201004_MF_189_80_60_CB_S_1_360_64.1+1_000001.tif\n"
     ]
    }
   ],
   "source": [
    "### Alternative: read the image in using matplotlib\n",
    "infn = \"201004_MF_189_80_60_CB_S_1_360_64.1+1_000001.tif\"\n",
    "infile = outpath+infn\n",
    "print( infile )"
   ]
  },
  {
   "cell_type": "code",
   "execution_count": 50,
   "metadata": {},
   "outputs": [
    {
     "name": "stdout",
     "output_type": "stream",
     "text": [
      "(2000, 2000, 3)\n"
     ]
    },
    {
     "data": {
      "text/plain": [
       "<matplotlib.image.AxesImage at 0x7fd2580ae9d0>"
      ]
     },
     "execution_count": 50,
     "metadata": {},
     "output_type": "execute_result"
    },
    {
     "data": {
      "image/png": "[encoded data removed]",
      "text/plain": [
       "<Figure size 432x288 with 1 Axes>"
      ]
     },
     "metadata": {
      "needs_background": "light"
     },
     "output_type": "display_data"
    }
   ],
   "source": [
    "imgplt = plt.imread( infile )\n",
    "\n",
    "print(imgplt.shape)\n",
    "\n",
    "plt.imshow(imgplt) # displays image in the next output cell of the jupyter notebook"
   ]
  },
  {
   "cell_type": "raw",
   "metadata": {},
   "source": [
    "NLITTLEIMAGES = icount\n",
    "print( NLITTLEIMAGES )\n",
    "\n",
    "#for icount in NLITTLEIMAGES:\n",
    "for icount in range(     0, NLITTLEIMAGES , 1 ):\n",
    "    littleimage = \"%s_%06d%s\" % (outfile, icount+1 , oldextension ) \n",
    "    print( littleimage )\n",
    "  "
   ]
  },
  {
   "cell_type": "raw",
   "metadata": {},
   "source": [
    "NLITTLEIMAGES = icount\n",
    "print( NLITTLEIMAGES )\n",
    "for icount in range(     0, NLITTLEIMAGES , 1 ):\n",
    "    littleimage = \"%s_%06d%s\" % (outfile, icount+1 , oldextension ) \n",
    "    print( littleimage )    \n",
    "    imgplt = plt.imread( littleimage )\n",
    "    print(imgplt.shape)\n",
    "    plt.imshow(imgplt) # displays image in the next output cell of the jupyter notebook\n"
   ]
  },
  {
   "cell_type": "code",
   "execution_count": null,
   "metadata": {},
   "outputs": [],
   "source": []
  }
 ],
 "metadata": {
  "environment": {
   "name": "r-cpu.3-6.m65",
   "type": "gcloud",
   "uri": "gcr.io/deeplearning-platform-release/r-cpu.3-6:m65"
  },
  "kernelspec": {
   "display_name": "Python 3",
   "language": "python",
   "name": "python3"
  },
  "language_info": {
   "codemirror_mode": {
    "name": "ipython",
    "version": 3
   },
   "file_extension": ".py",
   "mimetype": "text/x-python",
   "name": "python",
   "nbconvert_exporter": "python",
   "pygments_lexer": "ipython3",
   "version": "3.7.10"
  }
 },
 "nbformat": 4,
 "nbformat_minor": 4
}
