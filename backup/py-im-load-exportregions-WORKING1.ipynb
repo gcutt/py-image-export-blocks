{
 "cells": [
  {
   "cell_type": "markdown",
   "metadata": {},
   "source": [
    "## Load image and export non-overlapping rectangular regions (ROIs) to new image files"
   ]
  },
  {
   "cell_type": "markdown",
   "metadata": {},
   "source": [
    "### IMPORTS\n",
    "Requires cv2, numpy, matplotlib"
   ]
  },
  {
   "cell_type": "code",
   "execution_count": 48,
   "metadata": {},
   "outputs": [],
   "source": [
    "import cv2\n",
    "import numpy as np\n",
    "import matplotlib.pyplot as plt\n",
    "import os\n",
    "import re  # regular expressions"
   ]
  },
  {
   "cell_type": "code",
   "execution_count": 49,
   "metadata": {},
   "outputs": [],
   "source": [
    "### OPTIONS"
   ]
  },
  {
   "cell_type": "code",
   "execution_count": 50,
   "metadata": {},
   "outputs": [],
   "source": [
    "DEBUGGING          = False\n",
    "doEXTERNALWINDOW   = False  # Don't make True if in GCP\n",
    "doUSETESTIMAGERY   = False  # if False, use real images\n",
    "doTESTCOLOR        = False\n",
    "doMATPLOTLIBIMREAD = False"
   ]
  },
  {
   "cell_type": "markdown",
   "metadata": {},
   "source": [
    "### Image path and filename\n",
    "You need to define your inpath and filename (as infn) here.\n",
    "This code is using a test image in a directory nearby that is defined as a relative path. "
   ]
  },
  {
   "cell_type": "code",
   "execution_count": 51,
   "metadata": {},
   "outputs": [
    {
     "name": "stdout",
     "output_type": "stream",
     "text": [
      "/home/jupyter/_IMAGERY/201004_MF_189_80_60_CB_S_1_360_64/201004_MF_189_80_60_CB_S_1_360_64.1+1.tif\n",
      "/home/jupyter/_IMAGERY/201004_MF_189_80_60_CB_S_1_360_64/REGIONS/\n",
      "/home/jupyter/_IMAGERY/201004_MF_189_80_60_CB_S_1_360_64/REGIONS/201004_MF_189_80_60_CB_S_1_360_64.1+1.tif\n"
     ]
    }
   ],
   "source": [
    "homepath = \"/home/jupyter/\"\n",
    "inpath = homepath+\"_IMAGERY/201004_MF_189_80_60_CB_S_1_360_64/\"\n",
    "\n",
    "# multiple files to process\n",
    "infn = \"201004_MF_189_80_60_CB_S_1_360_64.1+1.tif\"\n",
    "# infn = \"201004_MF_189_80_60_CB_S_1_360_64.2+1.tif\"\n",
    "\n",
    "# actualpath = \"_IMAGERY/201004_MF_189_80_60_CB_S_1_360_64/201004_MF_189_80_60_CB_S_1_360_64.6+1.tif\"\n",
    "# inpath= \"_IMAGERY/201004_MF_189_80_60_CB_S_1_360_64/201004_MF_189_80_60_CB_S_1_360_64.6+1.tif\"\n",
    "\n",
    "infile = inpath+infn\n",
    "print( infile )\n",
    "\n",
    "\n",
    "outpath = inpath+\"REGIONS/\"\n",
    "print( outpath )\n",
    "#if !exists(outpath):\n",
    "#    os.mkdir( outpath)\n",
    "outfile = outpath+infn\n",
    "print(outfile)"
   ]
  },
  {
   "cell_type": "markdown",
   "metadata": {},
   "source": [
    "### Read the image"
   ]
  },
  {
   "cell_type": "code",
   "execution_count": 52,
   "metadata": {},
   "outputs": [
    {
     "ename": "error",
     "evalue": "OpenCV(4.5.1) ../modules/core/src/alloc.cpp:73: error: (-4:Insufficient memory) Failed to allocate 1016817000 bytes in function 'OutOfMemoryError'\n",
     "output_type": "error",
     "traceback": [
      "\u001b[0;31m---------------------------------------------------------------------------\u001b[0m",
      "\u001b[0;31merror\u001b[0m                                     Traceback (most recent call last)",
      "\u001b[0;32m<ipython-input-52-2cb9333d84f7>\u001b[0m in \u001b[0;36m<module>\u001b[0;34m\u001b[0m\n\u001b[0;32m----> 1\u001b[0;31m \u001b[0mimg\u001b[0m \u001b[0;34m=\u001b[0m \u001b[0mcv2\u001b[0m\u001b[0;34m.\u001b[0m\u001b[0mimread\u001b[0m\u001b[0;34m(\u001b[0m \u001b[0minfile\u001b[0m \u001b[0;34m)\u001b[0m\u001b[0;34m\u001b[0m\u001b[0;34m\u001b[0m\u001b[0m\n\u001b[0m",
      "\u001b[0;31merror\u001b[0m: OpenCV(4.5.1) ../modules/core/src/alloc.cpp:73: error: (-4:Insufficient memory) Failed to allocate 1016817000 bytes in function 'OutOfMemoryError'\n"
     ]
    }
   ],
   "source": [
    "img = cv2.imread( infile )"
   ]
  },
  {
   "cell_type": "markdown",
   "metadata": {},
   "source": [
    "### Image shape\n",
    "Shape of image is accessed by img.shape. It returns a tuple of number of rows, columns and channels (if image is color):"
   ]
  },
  {
   "cell_type": "code",
   "execution_count": null,
   "metadata": {},
   "outputs": [],
   "source": [
    "print(img.shape)"
   ]
  },
  {
   "cell_type": "markdown",
   "metadata": {},
   "source": [
    "### Image size\n",
    "Total number of pixels, from img.size"
   ]
  },
  {
   "cell_type": "code",
   "execution_count": null,
   "metadata": {},
   "outputs": [],
   "source": [
    "print(img.size)"
   ]
  },
  {
   "cell_type": "markdown",
   "metadata": {},
   "source": [
    "### Image datatype\n",
    "Image datatype "
   ]
  },
  {
   "cell_type": "code",
   "execution_count": null,
   "metadata": {},
   "outputs": [],
   "source": [
    "print(img.dtype)"
   ]
  },
  {
   "cell_type": "markdown",
   "metadata": {},
   "source": [
    "### Display image using cv2.imshow (creates external window)\n",
    "DON'T DO THIS IN A JUPYTER NOTEBOOK"
   ]
  },
  {
   "cell_type": "code",
   "execution_count": null,
   "metadata": {},
   "outputs": [],
   "source": [
    "# displaying image using cv2.imshow (creates external window)\n",
    "# DON'T DO THIS IN A JUPYTER NOTEBOOK\n",
    "if doEXTERNALWINDOW:\n",
    "    cv2.imshow('image window for img', img )\n",
    "    #add wait key. window waits till user press any key\n",
    "    cv2.waitKey(0)"
   ]
  },
  {
   "cell_type": "markdown",
   "metadata": {},
   "source": [
    "### Some recommend to destroy all windows, but this causes error:\n",
    "cv2.destoyAllWindows()\n",
    "AttributeError: module 'cv2' has no attribute 'destoyAllWindows'"
   ]
  },
  {
   "cell_type": "markdown",
   "metadata": {},
   "source": [
    "### __________________________________________________________________\n",
    "### Load and display image in the notebook using matplotlib\n",
    "Use matplotlib instead of opencv to read and display the image"
   ]
  },
  {
   "cell_type": "code",
   "execution_count": null,
   "metadata": {},
   "outputs": [],
   "source": [
    "### Alternative: read the image in using matplotlib\n",
    "if doMATPLOTLIBIMREAD:\n",
    "    imgplt = plt.imread( infile )\n",
    "    print(imgplt.shape)\n",
    "    print(imgplt.dtype)\n",
    "    plt.imshow(imgplt) # displays image in the next output cell of the jupyter notebook"
   ]
  },
  {
   "cell_type": "markdown",
   "metadata": {},
   "source": [
    "### __________________________________________________________________\n",
    "### Test iteration through image\n",
    "Step through image by regions (ROIs, x,y blocks).\n",
    "This will give you an idea how the code works, and demonstrate the process without saving the regions."
   ]
  },
  {
   "cell_type": "raw",
   "metadata": {},
   "source": [
    "# TESTING \n",
    "ix      = 0\n",
    "iy      = 0\n",
    "iboxcount  = 0\n",
    "intvpix = 200\n",
    "NMAX    = 30\n",
    "\n",
    "print( img.shape )\n",
    "print( img.shape[0] )\n",
    "print( img.shape[1] )\n",
    "\n",
    "print('iboxcount, x, y' ) \n",
    "for x in range(     0, img.shape[0] , intvpix ):\n",
    "    for y in range( 0, img.shape[1] , intvpix ):\n",
    "        ix += 1\n",
    "        iy += 1\n",
    "        iboxcount += 1\n",
    "        print( '%d %d %d (%d %d)' % (iboxcount, x, y, ix, iy) ) \n",
    "        print( img[x,y] )\n",
    "         \n",
    "        if iboxcount>NMAX:\n",
    "            break\n",
    "    if iboxcount>NMAX:\n",
    "        break\n",
    "   "
   ]
  },
  {
   "cell_type": "markdown",
   "metadata": {},
   "source": [
    "### __________________________________________________________________\n",
    "## Export regions to images\n",
    "This is the code that iterates through image by regions (ROIs, x,y blocks), \n",
    "and saves the regions to new image files. "
   ]
  },
  {
   "cell_type": "code",
   "execution_count": 53,
   "metadata": {},
   "outputs": [
    {
     "name": "stdout",
     "output_type": "stream",
     "text": [
      "/home/jupyter/_IMAGERY/201004_MF_189_80_60_CB_S_1_360_64/REGIONS/201004_MF_189_80_60_CB_S_1_360_64.1+1.tif\n"
     ]
    }
   ],
   "source": [
    "print( outfile )"
   ]
  },
  {
   "cell_type": "code",
   "execution_count": 54,
   "metadata": {},
   "outputs": [
    {
     "name": "stdout",
     "output_type": "stream",
     "text": [
      "23215\n",
      "boxx init = 4000\n",
      "4000\n",
      "boxx now = 4000\n",
      "icount, x, y\n",
      "1 0 0\n",
      "[79 79 79]\n",
      "[AFTER RE.SUB] infile = /home/jupyter/_IMAGERY/201004_MF_189_80_60_CB_S_1_360_64/REGIONS/201004_MF_189_80_60_CB_S_1_360_64.1+1 (len = 102)\n",
      "!!ofn!! = /home/jupyter/_IMAGERY/201004_MF_189_80_60_CB_S_1_360_64/REGIONS/201004_MF_189_80_60_CB_S_1_360_64.1+1_000001.tif\n",
      "2 0 4000\n",
      "[153 153 153]\n",
      "[AFTER RE.SUB] infile = /home/jupyter/_IMAGERY/201004_MF_189_80_60_CB_S_1_360_64/REGIONS/201004_MF_189_80_60_CB_S_1_360_64.1+1 (len = 102)\n",
      "!!ofn!! = /home/jupyter/_IMAGERY/201004_MF_189_80_60_CB_S_1_360_64/REGIONS/201004_MF_189_80_60_CB_S_1_360_64.1+1_000002.tif\n",
      "3 0 8000\n",
      "[28 28 28]\n",
      "[AFTER RE.SUB] infile = /home/jupyter/_IMAGERY/201004_MF_189_80_60_CB_S_1_360_64/REGIONS/201004_MF_189_80_60_CB_S_1_360_64.1+1 (len = 102)\n",
      "!!ofn!! = /home/jupyter/_IMAGERY/201004_MF_189_80_60_CB_S_1_360_64/REGIONS/201004_MF_189_80_60_CB_S_1_360_64.1+1_000003.tif\n",
      "4 0 12000\n",
      "[51 51 51]\n",
      "[AFTER RE.SUB] infile = /home/jupyter/_IMAGERY/201004_MF_189_80_60_CB_S_1_360_64/REGIONS/201004_MF_189_80_60_CB_S_1_360_64.1+1 (len = 102)\n",
      "!!ofn!! = /home/jupyter/_IMAGERY/201004_MF_189_80_60_CB_S_1_360_64/REGIONS/201004_MF_189_80_60_CB_S_1_360_64.1+1_000004.tif\n",
      "5 4000 0\n",
      "[227 227 227]\n",
      "[AFTER RE.SUB] infile = /home/jupyter/_IMAGERY/201004_MF_189_80_60_CB_S_1_360_64/REGIONS/201004_MF_189_80_60_CB_S_1_360_64.1+1 (len = 102)\n",
      "!!ofn!! = /home/jupyter/_IMAGERY/201004_MF_189_80_60_CB_S_1_360_64/REGIONS/201004_MF_189_80_60_CB_S_1_360_64.1+1_000005.tif\n",
      "6 4000 4000\n",
      "[243 243 243]\n",
      "[AFTER RE.SUB] infile = /home/jupyter/_IMAGERY/201004_MF_189_80_60_CB_S_1_360_64/REGIONS/201004_MF_189_80_60_CB_S_1_360_64.1+1 (len = 102)\n",
      "!!ofn!! = /home/jupyter/_IMAGERY/201004_MF_189_80_60_CB_S_1_360_64/REGIONS/201004_MF_189_80_60_CB_S_1_360_64.1+1_000006.tif\n",
      "7 4000 8000\n",
      "[227 227 227]\n",
      "[AFTER RE.SUB] infile = /home/jupyter/_IMAGERY/201004_MF_189_80_60_CB_S_1_360_64/REGIONS/201004_MF_189_80_60_CB_S_1_360_64.1+1 (len = 102)\n",
      "!!ofn!! = /home/jupyter/_IMAGERY/201004_MF_189_80_60_CB_S_1_360_64/REGIONS/201004_MF_189_80_60_CB_S_1_360_64.1+1_000007.tif\n",
      "8 4000 12000\n",
      "[224 224 224]\n",
      "[AFTER RE.SUB] infile = /home/jupyter/_IMAGERY/201004_MF_189_80_60_CB_S_1_360_64/REGIONS/201004_MF_189_80_60_CB_S_1_360_64.1+1 (len = 102)\n",
      "!!ofn!! = /home/jupyter/_IMAGERY/201004_MF_189_80_60_CB_S_1_360_64/REGIONS/201004_MF_189_80_60_CB_S_1_360_64.1+1_000008.tif\n",
      "9 8000 0\n",
      "[228 228 228]\n",
      "[AFTER RE.SUB] infile = /home/jupyter/_IMAGERY/201004_MF_189_80_60_CB_S_1_360_64/REGIONS/201004_MF_189_80_60_CB_S_1_360_64.1+1 (len = 102)\n",
      "!!ofn!! = /home/jupyter/_IMAGERY/201004_MF_189_80_60_CB_S_1_360_64/REGIONS/201004_MF_189_80_60_CB_S_1_360_64.1+1_000009.tif\n",
      "10 8000 4000\n",
      "[246 246 246]\n",
      "[AFTER RE.SUB] infile = /home/jupyter/_IMAGERY/201004_MF_189_80_60_CB_S_1_360_64/REGIONS/201004_MF_189_80_60_CB_S_1_360_64.1+1 (len = 102)\n",
      "!!ofn!! = /home/jupyter/_IMAGERY/201004_MF_189_80_60_CB_S_1_360_64/REGIONS/201004_MF_189_80_60_CB_S_1_360_64.1+1_000010.tif\n",
      "11 8000 8000\n",
      "[225 225 225]\n",
      "[AFTER RE.SUB] infile = /home/jupyter/_IMAGERY/201004_MF_189_80_60_CB_S_1_360_64/REGIONS/201004_MF_189_80_60_CB_S_1_360_64.1+1 (len = 102)\n",
      "!!ofn!! = /home/jupyter/_IMAGERY/201004_MF_189_80_60_CB_S_1_360_64/REGIONS/201004_MF_189_80_60_CB_S_1_360_64.1+1_000011.tif\n",
      "12 8000 12000\n",
      "[224 224 224]\n",
      "[AFTER RE.SUB] infile = /home/jupyter/_IMAGERY/201004_MF_189_80_60_CB_S_1_360_64/REGIONS/201004_MF_189_80_60_CB_S_1_360_64.1+1 (len = 102)\n",
      "!!ofn!! = /home/jupyter/_IMAGERY/201004_MF_189_80_60_CB_S_1_360_64/REGIONS/201004_MF_189_80_60_CB_S_1_360_64.1+1_000012.tif\n",
      "13 12000 0\n",
      "[154 154 154]\n",
      "[AFTER RE.SUB] infile = /home/jupyter/_IMAGERY/201004_MF_189_80_60_CB_S_1_360_64/REGIONS/201004_MF_189_80_60_CB_S_1_360_64.1+1 (len = 102)\n",
      "!!ofn!! = /home/jupyter/_IMAGERY/201004_MF_189_80_60_CB_S_1_360_64/REGIONS/201004_MF_189_80_60_CB_S_1_360_64.1+1_000013.tif\n",
      "14 12000 4000\n",
      "[242 242 242]\n",
      "[AFTER RE.SUB] infile = /home/jupyter/_IMAGERY/201004_MF_189_80_60_CB_S_1_360_64/REGIONS/201004_MF_189_80_60_CB_S_1_360_64.1+1 (len = 102)\n",
      "!!ofn!! = /home/jupyter/_IMAGERY/201004_MF_189_80_60_CB_S_1_360_64/REGIONS/201004_MF_189_80_60_CB_S_1_360_64.1+1_000014.tif\n",
      "15 12000 8000\n",
      "[230 230 230]\n",
      "[AFTER RE.SUB] infile = /home/jupyter/_IMAGERY/201004_MF_189_80_60_CB_S_1_360_64/REGIONS/201004_MF_189_80_60_CB_S_1_360_64.1+1 (len = 102)\n",
      "!!ofn!! = /home/jupyter/_IMAGERY/201004_MF_189_80_60_CB_S_1_360_64/REGIONS/201004_MF_189_80_60_CB_S_1_360_64.1+1_000015.tif\n",
      "16 12000 12000\n",
      "[230 230 230]\n",
      "[AFTER RE.SUB] infile = /home/jupyter/_IMAGERY/201004_MF_189_80_60_CB_S_1_360_64/REGIONS/201004_MF_189_80_60_CB_S_1_360_64.1+1 (len = 102)\n",
      "!!ofn!! = /home/jupyter/_IMAGERY/201004_MF_189_80_60_CB_S_1_360_64/REGIONS/201004_MF_189_80_60_CB_S_1_360_64.1+1_000016.tif\n",
      "17 16000 0\n",
      "[146 146 146]\n",
      "[AFTER RE.SUB] infile = /home/jupyter/_IMAGERY/201004_MF_189_80_60_CB_S_1_360_64/REGIONS/201004_MF_189_80_60_CB_S_1_360_64.1+1 (len = 102)\n",
      "!!ofn!! = /home/jupyter/_IMAGERY/201004_MF_189_80_60_CB_S_1_360_64/REGIONS/201004_MF_189_80_60_CB_S_1_360_64.1+1_000017.tif\n",
      "18 16000 4000\n",
      "[247 247 247]\n",
      "[AFTER RE.SUB] infile = /home/jupyter/_IMAGERY/201004_MF_189_80_60_CB_S_1_360_64/REGIONS/201004_MF_189_80_60_CB_S_1_360_64.1+1 (len = 102)\n",
      "!!ofn!! = /home/jupyter/_IMAGERY/201004_MF_189_80_60_CB_S_1_360_64/REGIONS/201004_MF_189_80_60_CB_S_1_360_64.1+1_000018.tif\n",
      "19 16000 8000\n",
      "[239 239 239]\n",
      "[AFTER RE.SUB] infile = /home/jupyter/_IMAGERY/201004_MF_189_80_60_CB_S_1_360_64/REGIONS/201004_MF_189_80_60_CB_S_1_360_64.1+1 (len = 102)\n",
      "!!ofn!! = /home/jupyter/_IMAGERY/201004_MF_189_80_60_CB_S_1_360_64/REGIONS/201004_MF_189_80_60_CB_S_1_360_64.1+1_000019.tif\n",
      "20 16000 12000\n",
      "[236 236 236]\n",
      "[AFTER RE.SUB] infile = /home/jupyter/_IMAGERY/201004_MF_189_80_60_CB_S_1_360_64/REGIONS/201004_MF_189_80_60_CB_S_1_360_64.1+1 (len = 102)\n",
      "!!ofn!! = /home/jupyter/_IMAGERY/201004_MF_189_80_60_CB_S_1_360_64/REGIONS/201004_MF_189_80_60_CB_S_1_360_64.1+1_000020.tif\n",
      "21 20000 0\n",
      "[123 123 123]\n",
      "[AFTER RE.SUB] infile = /home/jupyter/_IMAGERY/201004_MF_189_80_60_CB_S_1_360_64/REGIONS/201004_MF_189_80_60_CB_S_1_360_64.1+1 (len = 102)\n",
      "!!ofn!! = /home/jupyter/_IMAGERY/201004_MF_189_80_60_CB_S_1_360_64/REGIONS/201004_MF_189_80_60_CB_S_1_360_64.1+1_000021.tif\n",
      "22 20000 4000\n",
      "[244 244 244]\n",
      "[AFTER RE.SUB] infile = /home/jupyter/_IMAGERY/201004_MF_189_80_60_CB_S_1_360_64/REGIONS/201004_MF_189_80_60_CB_S_1_360_64.1+1 (len = 102)\n",
      "!!ofn!! = /home/jupyter/_IMAGERY/201004_MF_189_80_60_CB_S_1_360_64/REGIONS/201004_MF_189_80_60_CB_S_1_360_64.1+1_000022.tif\n",
      "23 20000 8000\n",
      "[241 241 241]\n",
      "[AFTER RE.SUB] infile = /home/jupyter/_IMAGERY/201004_MF_189_80_60_CB_S_1_360_64/REGIONS/201004_MF_189_80_60_CB_S_1_360_64.1+1 (len = 102)\n",
      "!!ofn!! = /home/jupyter/_IMAGERY/201004_MF_189_80_60_CB_S_1_360_64/REGIONS/201004_MF_189_80_60_CB_S_1_360_64.1+1_000023.tif\n",
      "24 20000 12000\n",
      "[236 236 236]\n",
      "[AFTER RE.SUB] infile = /home/jupyter/_IMAGERY/201004_MF_189_80_60_CB_S_1_360_64/REGIONS/201004_MF_189_80_60_CB_S_1_360_64.1+1 (len = 102)\n",
      "!!ofn!! = /home/jupyter/_IMAGERY/201004_MF_189_80_60_CB_S_1_360_64/REGIONS/201004_MF_189_80_60_CB_S_1_360_64.1+1_000024.tif\n"
     ]
    }
   ],
   "source": [
    "# Export regions to images \n",
    "       \n",
    "ix = 0\n",
    "iy = 0\n",
    "icount = 0\n",
    "boxx    = 2000\n",
    "boxy    = 2000\n",
    "NROIMAX = 9999\n",
    "\n",
    "print( img.shape[0] )\n",
    "print( 'boxx init = %d' % boxx )    \n",
    "print( boxx )\n",
    "\n",
    "if img.shape[0] <= boxx:\n",
    "    boxx    = 100\n",
    "    boxy    = 100\n",
    "    NROIMAX =  10\n",
    "\n",
    "print( 'boxx now = %d' % boxx )    \n",
    "    \n",
    "print('icount, x, y' ) \n",
    "#for x in range(     0, img.shape[0] - boxx , boxx ):\n",
    "#    for y in range( 0, img.shape[1] - boxy , boxy ):\n",
    "for x in range(     0, img.shape[0]  , boxx ):\n",
    "    for y in range( 0, img.shape[1]  , boxy ):  \n",
    "        ix += 1\n",
    "        iy += 1\n",
    "        icount += 1\n",
    "        print('%d %d %d' % (icount, x, y) ) \n",
    "        print( img[x,y] )\n",
    "        \n",
    "        # region of interest rectangle selection\n",
    "        ROI = img[ x:x+boxx , y:y+boxy ]\n",
    "        \n",
    "        # outfilename\n",
    "        # ofnpfx = infile+'_{}.png'\n",
    "        #ofnpfx = outfile+'_{}.png'\n",
    "        #ofn = ofnpfx.format( icount , width=5 )   # apparently the width option is not working here     \n",
    "        #print( ofn )\n",
    "        \n",
    "        # remove infilename extension using regular expressions, re.sub\n",
    "        oldextension = \".tif\"\n",
    "        outfile = re.sub( oldextension , \"\", outfile)\n",
    "        lenofn = len( outfile )\n",
    "        print('[AFTER RE.SUB] infile = %s (len = %d)' % (outfile, lenofn ) )  \n",
    "        \n",
    "        # outfilename\n",
    "        #ofn = \"%s_%06d.png\" % (infile, icount) \n",
    "        ofn = \"%s_%06d%s\" % (outfile, icount, oldextension)\n",
    "        print('!!ofn!! = %s' % ofn )\n",
    "        \n",
    "        # write region contents to image file (and works w/ color image content)\n",
    "        cv2.imwrite( ofn , ROI )\n",
    "        \n",
    "        if icount>=NROIMAX:\n",
    "            break\n",
    "    if icount>=NROIMAX:\n",
    "        break\n",
    " "
   ]
  },
  {
   "cell_type": "code",
   "execution_count": 55,
   "metadata": {},
   "outputs": [
    {
     "name": "stdout",
     "output_type": "stream",
     "text": [
      "N images = 24\n"
     ]
    }
   ],
   "source": [
    "print('N images = %d' % icount) "
   ]
  },
  {
   "cell_type": "markdown",
   "metadata": {},
   "source": [
    "Load and display image in the notebook using matplotlib\n",
    "\n",
    "Use matplotlib instead of opencv to read and display the image\n"
   ]
  },
  {
   "cell_type": "code",
   "execution_count": null,
   "metadata": {},
   "outputs": [],
   "source": [
    "### Alternative: read the image in using matplotlib\n",
    "infn = \"201004_MF_189_80_60_CB_S_1_360_64.1+1_000001.tif\"\n",
    "infile = outpath+infn\n",
    "print( infile )"
   ]
  },
  {
   "cell_type": "code",
   "execution_count": 42,
   "metadata": {},
   "outputs": [
    {
     "name": "stdout",
     "output_type": "stream",
     "text": [
      "(3000, 3000, 3)\n"
     ]
    },
    {
     "data": {
      "text/plain": [
       "<matplotlib.image.AxesImage at 0x7fca0efb0590>"
      ]
     },
     "execution_count": 42,
     "metadata": {},
     "output_type": "execute_result"
    },
    {
     "data": {
      "image/png": "[encoded data removed]",
      "text/plain": [
       "<Figure size 432x288 with 1 Axes>"
      ]
     },
     "metadata": {
      "needs_background": "light"
     },
     "output_type": "display_data"
    }
   ],
   "source": [
    "imgplt = plt.imread( infile )\n",
    "\n",
    "print(imgplt.shape)\n",
    "\n",
    "plt.imshow(imgplt) # displays image in the next output cell of the jupyter notebook"
   ]
  },
  {
   "cell_type": "raw",
   "metadata": {},
   "source": [
    "NLITTLEIMAGES = icount\n",
    "print( NLITTLEIMAGES )\n",
    "\n",
    "#for icount in NLITTLEIMAGES:\n",
    "for icount in range(     0, NLITTLEIMAGES , 1 ):\n",
    "    littleimage = \"%s_%06d%s\" % (outfile, icount+1 , oldextension ) \n",
    "    print( littleimage )\n",
    "  "
   ]
  },
  {
   "cell_type": "raw",
   "metadata": {},
   "source": [
    "NLITTLEIMAGES = icount\n",
    "print( NLITTLEIMAGES )\n",
    "for icount in range(     0, NLITTLEIMAGES , 1 ):\n",
    "    littleimage = \"%s_%06d%s\" % (outfile, icount+1 , oldextension ) \n",
    "    print( littleimage )    \n",
    "    imgplt = plt.imread( littleimage )\n",
    "    print(imgplt.shape)\n",
    "    plt.imshow(imgplt) # displays image in the next output cell of the jupyter notebook\n"
   ]
  },
  {
   "cell_type": "code",
   "execution_count": null,
   "metadata": {},
   "outputs": [],
   "source": []
  }
 ],
 "metadata": {
  "environment": {
   "name": "r-cpu.3-6.m65",
   "type": "gcloud",
   "uri": "gcr.io/deeplearning-platform-release/r-cpu.3-6:m65"
  },
  "kernelspec": {
   "display_name": "Python 3",
   "language": "python",
   "name": "python3"
  },
  "language_info": {
   "codemirror_mode": {
    "name": "ipython",
    "version": 3
   },
   "file_extension": ".py",
   "mimetype": "text/x-python",
   "name": "python",
   "nbconvert_exporter": "python",
   "pygments_lexer": "ipython3",
   "version": "3.7.10"
  }
 },
 "nbformat": 4,
 "nbformat_minor": 4
}
